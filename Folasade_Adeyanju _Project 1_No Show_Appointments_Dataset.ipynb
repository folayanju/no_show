{
 "cells": [
  {
   "cell_type": "markdown",
   "metadata": {},
   "source": [
    "# Project: No Show Appointments\n",
    "\n",
    "## Table of Contents\n",
    "<ul>\n",
    "<li><a href=\"#intro\">Introduction</a></li>\n",
    "<li><a href=\"#wrangling\">Data Wrangling</a></li>\n",
    "<li><a href=\"#eda\">Exploratory Data Analysis</a></li>\n",
    "<li><a href=\"#conclusions\">Conclusions</a></li>\n",
    "</ul>"
   ]
  },
  {
   "cell_type": "markdown",
   "metadata": {},
   "source": [
    "<a id='intro'></a>\n",
    "## Introduction\n",
    "\n",
    "### Dataset Description \n",
    "\n",
    "> This Dataset involves a collection of information from over a hundred thousand medical appointments in Brazil. <br>\n",
    "It is focused on whether or not patients show up for their appointments with several characteristics that might be contributing factors as to why the patients do not show up for their appointments. <br>\n",
    "There are a number of characteristics in the dataset about the patient included in each row.<br>\n",
    "This Dataset has 14 columns which include; <br>\n",
    ">- Patient ID - This is a unique identifier for each patient\n",
    ">- Appointment ID - This is the appointment identification for the patients\n",
    ">- Gender - Male/Female\n",
    ">- Scheduled Day - This tells us the date the appointment was scheduled\t\n",
    ">- AppointmentDay\t- This is indicates the appointment date\n",
    ">- Age - The Age of the patients\n",
    ">- Neighbourhood\t- The location of the hospital\n",
    ">- Scholarship - This indicates whether or not a patient is enrolled into the Bolsa Familia Scholarship\n",
    ">- Hipertension - This indicates if the patient has Hypertension\n",
    ">- Diabetes - This indicates if the patient has Diabetes\n",
    ">- Alcoholism\t- This indicates if the patient has an alcohol addiction\n",
    ">- Handcap - This indicates if the patient is handicap\n",
    ">- SMS_received\t- This indicates if a patient received an appointment SMS or not.\n",
    ">- No-show - This tells us if a patient showed up to their appointments or not.\n",
    "\n",
    "\n",
    "### Question(s) for Analysis\n",
    "> Determine the factors that influence a patient's visit on the appointed date e.g.,<br>\n",
    "    >- Is there any relationship between the age and a patient's visit\n",
    "    >- Are those who received SMS more likely to honor their appointment?\n",
    "    >- Are those patients enrolled in the scholarship more likely to miss or make their appointments?\n",
    "    >- Does ailment/disease play a role in influencing a Patient's visit for their appointment?\n",
    "\n"
   ]
  },
  {
   "cell_type": "code",
   "execution_count": 1,
   "metadata": {},
   "outputs": [],
   "source": [
    "# Importing all my packages\n",
    "\n",
    "import pandas as pd\n",
    "import numpy as np\n",
    "import matplotlib.pyplot as plt\n",
    "import seaborn as sns\n",
    "%matplotlib inline\n"
   ]
  },
  {
   "cell_type": "markdown",
   "metadata": {},
   "source": [
    "<a id='wrangling'></a>\n",
    "## Data Wrangling\n",
    "> Below are the following Data Cleaning steps applied to the dataset <br>\n",
    ">- This dataset has no missing data,\n",
    ">- There are 110,527 rows which are all populated in for each variable.\n",
    ">- There are no duplicated rows,\n",
    ">- The data type for each variable matches correctly except for appointment day and sceduled day which should be in datetime\n",
    ">- For uniformity, the column names are changed to lower case and underscores are used to replace hyphens.\n",
    ">- The attributes in the column no_show is converted to *'Didnt show'* and *'Showed up'* for better understanding\n",
    ">- One row in the column age has a value < 0 which is obviously incorrect and is converted to the mean age.\n",
    ">- The column appointment_id and neighbourhood are dropped seeing that we do not require them for this analysis.\n"
   ]
  },
  {
   "cell_type": "code",
   "execution_count": 2,
   "metadata": {},
   "outputs": [
    {
     "data": {
      "text/html": [
       "<div>\n",
       "<style scoped>\n",
       "    .dataframe tbody tr th:only-of-type {\n",
       "        vertical-align: middle;\n",
       "    }\n",
       "\n",
       "    .dataframe tbody tr th {\n",
       "        vertical-align: top;\n",
       "    }\n",
       "\n",
       "    .dataframe thead th {\n",
       "        text-align: right;\n",
       "    }\n",
       "</style>\n",
       "<table border=\"1\" class=\"dataframe\">\n",
       "  <thead>\n",
       "    <tr style=\"text-align: right;\">\n",
       "      <th></th>\n",
       "      <th>PatientId</th>\n",
       "      <th>AppointmentID</th>\n",
       "      <th>Gender</th>\n",
       "      <th>ScheduledDay</th>\n",
       "      <th>AppointmentDay</th>\n",
       "      <th>Age</th>\n",
       "      <th>Neighbourhood</th>\n",
       "      <th>Scholarship</th>\n",
       "      <th>Hipertension</th>\n",
       "      <th>Diabetes</th>\n",
       "      <th>Alcoholism</th>\n",
       "      <th>Handcap</th>\n",
       "      <th>SMS_received</th>\n",
       "      <th>No-show</th>\n",
       "    </tr>\n",
       "  </thead>\n",
       "  <tbody>\n",
       "    <tr>\n",
       "      <th>0</th>\n",
       "      <td>39218</td>\n",
       "      <td>5751990</td>\n",
       "      <td>F</td>\n",
       "      <td>2016-05-31T10:56:41Z</td>\n",
       "      <td>2016-06-03T00:00:00Z</td>\n",
       "      <td>44</td>\n",
       "      <td>PRAIA DO SUÁ</td>\n",
       "      <td>0</td>\n",
       "      <td>0</td>\n",
       "      <td>0</td>\n",
       "      <td>0</td>\n",
       "      <td>0</td>\n",
       "      <td>0</td>\n",
       "      <td>No</td>\n",
       "    </tr>\n",
       "    <tr>\n",
       "      <th>1</th>\n",
       "      <td>43742</td>\n",
       "      <td>5760144</td>\n",
       "      <td>M</td>\n",
       "      <td>2016-06-01T14:22:58Z</td>\n",
       "      <td>2016-06-01T00:00:00Z</td>\n",
       "      <td>39</td>\n",
       "      <td>MARIA ORTIZ</td>\n",
       "      <td>0</td>\n",
       "      <td>0</td>\n",
       "      <td>1</td>\n",
       "      <td>0</td>\n",
       "      <td>0</td>\n",
       "      <td>0</td>\n",
       "      <td>No</td>\n",
       "    </tr>\n",
       "    <tr>\n",
       "      <th>2</th>\n",
       "      <td>93780</td>\n",
       "      <td>5712759</td>\n",
       "      <td>F</td>\n",
       "      <td>2016-05-18T09:12:29Z</td>\n",
       "      <td>2016-05-18T00:00:00Z</td>\n",
       "      <td>33</td>\n",
       "      <td>CENTRO</td>\n",
       "      <td>0</td>\n",
       "      <td>0</td>\n",
       "      <td>0</td>\n",
       "      <td>0</td>\n",
       "      <td>0</td>\n",
       "      <td>0</td>\n",
       "      <td>No</td>\n",
       "    </tr>\n",
       "    <tr>\n",
       "      <th>3</th>\n",
       "      <td>141724</td>\n",
       "      <td>5637648</td>\n",
       "      <td>M</td>\n",
       "      <td>2016-04-29T07:13:36Z</td>\n",
       "      <td>2016-05-02T00:00:00Z</td>\n",
       "      <td>12</td>\n",
       "      <td>FORTE SÃO JOÃO</td>\n",
       "      <td>0</td>\n",
       "      <td>0</td>\n",
       "      <td>0</td>\n",
       "      <td>0</td>\n",
       "      <td>0</td>\n",
       "      <td>0</td>\n",
       "      <td>No</td>\n",
       "    </tr>\n",
       "    <tr>\n",
       "      <th>4</th>\n",
       "      <td>537615</td>\n",
       "      <td>5637728</td>\n",
       "      <td>F</td>\n",
       "      <td>2016-04-29T07:19:57Z</td>\n",
       "      <td>2016-05-06T00:00:00Z</td>\n",
       "      <td>14</td>\n",
       "      <td>FORTE SÃO JOÃO</td>\n",
       "      <td>0</td>\n",
       "      <td>0</td>\n",
       "      <td>0</td>\n",
       "      <td>0</td>\n",
       "      <td>0</td>\n",
       "      <td>1</td>\n",
       "      <td>No</td>\n",
       "    </tr>\n",
       "  </tbody>\n",
       "</table>\n",
       "</div>"
      ],
      "text/plain": [
       "   PatientId  AppointmentID Gender          ScheduledDay  \\\n",
       "0      39218        5751990      F  2016-05-31T10:56:41Z   \n",
       "1      43742        5760144      M  2016-06-01T14:22:58Z   \n",
       "2      93780        5712759      F  2016-05-18T09:12:29Z   \n",
       "3     141724        5637648      M  2016-04-29T07:13:36Z   \n",
       "4     537615        5637728      F  2016-04-29T07:19:57Z   \n",
       "\n",
       "         AppointmentDay  Age   Neighbourhood  Scholarship  Hipertension  \\\n",
       "0  2016-06-03T00:00:00Z   44    PRAIA DO SUÁ            0             0   \n",
       "1  2016-06-01T00:00:00Z   39     MARIA ORTIZ            0             0   \n",
       "2  2016-05-18T00:00:00Z   33          CENTRO            0             0   \n",
       "3  2016-05-02T00:00:00Z   12  FORTE SÃO JOÃO            0             0   \n",
       "4  2016-05-06T00:00:00Z   14  FORTE SÃO JOÃO            0             0   \n",
       "\n",
       "   Diabetes  Alcoholism  Handcap  SMS_received No-show  \n",
       "0         0           0        0             0      No  \n",
       "1         1           0        0             0      No  \n",
       "2         0           0        0             0      No  \n",
       "3         0           0        0             0      No  \n",
       "4         0           0        0             1      No  "
      ]
     },
     "execution_count": 2,
     "metadata": {},
     "output_type": "execute_result"
    }
   ],
   "source": [
    "# Importing my dataset\n",
    "df_appointments = pd.read_csv('noshowappointments.csv')\n",
    "df_appointments.head()"
   ]
  },
  {
   "cell_type": "code",
   "execution_count": 3,
   "metadata": {},
   "outputs": [
    {
     "data": {
      "text/plain": [
       "(110527, 14)"
      ]
     },
     "execution_count": 3,
     "metadata": {},
     "output_type": "execute_result"
    }
   ],
   "source": [
    "df_appointments.shape"
   ]
  },
  {
   "cell_type": "code",
   "execution_count": 4,
   "metadata": {},
   "outputs": [
    {
     "data": {
      "text/html": [
       "<div>\n",
       "<style scoped>\n",
       "    .dataframe tbody tr th:only-of-type {\n",
       "        vertical-align: middle;\n",
       "    }\n",
       "\n",
       "    .dataframe tbody tr th {\n",
       "        vertical-align: top;\n",
       "    }\n",
       "\n",
       "    .dataframe thead th {\n",
       "        text-align: right;\n",
       "    }\n",
       "</style>\n",
       "<table border=\"1\" class=\"dataframe\">\n",
       "  <thead>\n",
       "    <tr style=\"text-align: right;\">\n",
       "      <th></th>\n",
       "      <th>PatientId</th>\n",
       "      <th>AppointmentID</th>\n",
       "      <th>Age</th>\n",
       "      <th>Scholarship</th>\n",
       "      <th>Hipertension</th>\n",
       "      <th>Diabetes</th>\n",
       "      <th>Alcoholism</th>\n",
       "      <th>Handcap</th>\n",
       "      <th>SMS_received</th>\n",
       "    </tr>\n",
       "  </thead>\n",
       "  <tbody>\n",
       "    <tr>\n",
       "      <th>count</th>\n",
       "      <td>1.105270e+05</td>\n",
       "      <td>1.105270e+05</td>\n",
       "      <td>110527.000000</td>\n",
       "      <td>110527.000000</td>\n",
       "      <td>110527.000000</td>\n",
       "      <td>110527.000000</td>\n",
       "      <td>110527.000000</td>\n",
       "      <td>110527.000000</td>\n",
       "      <td>110527.000000</td>\n",
       "    </tr>\n",
       "    <tr>\n",
       "      <th>mean</th>\n",
       "      <td>1.474963e+14</td>\n",
       "      <td>5.675305e+06</td>\n",
       "      <td>37.088874</td>\n",
       "      <td>0.098266</td>\n",
       "      <td>0.197246</td>\n",
       "      <td>0.071865</td>\n",
       "      <td>0.030400</td>\n",
       "      <td>0.022248</td>\n",
       "      <td>0.321026</td>\n",
       "    </tr>\n",
       "    <tr>\n",
       "      <th>std</th>\n",
       "      <td>2.560949e+14</td>\n",
       "      <td>7.129575e+04</td>\n",
       "      <td>23.110205</td>\n",
       "      <td>0.297675</td>\n",
       "      <td>0.397921</td>\n",
       "      <td>0.258265</td>\n",
       "      <td>0.171686</td>\n",
       "      <td>0.161543</td>\n",
       "      <td>0.466873</td>\n",
       "    </tr>\n",
       "    <tr>\n",
       "      <th>min</th>\n",
       "      <td>3.921800e+04</td>\n",
       "      <td>5.030230e+06</td>\n",
       "      <td>-1.000000</td>\n",
       "      <td>0.000000</td>\n",
       "      <td>0.000000</td>\n",
       "      <td>0.000000</td>\n",
       "      <td>0.000000</td>\n",
       "      <td>0.000000</td>\n",
       "      <td>0.000000</td>\n",
       "    </tr>\n",
       "    <tr>\n",
       "      <th>25%</th>\n",
       "      <td>4.172614e+12</td>\n",
       "      <td>5.640286e+06</td>\n",
       "      <td>18.000000</td>\n",
       "      <td>0.000000</td>\n",
       "      <td>0.000000</td>\n",
       "      <td>0.000000</td>\n",
       "      <td>0.000000</td>\n",
       "      <td>0.000000</td>\n",
       "      <td>0.000000</td>\n",
       "    </tr>\n",
       "    <tr>\n",
       "      <th>50%</th>\n",
       "      <td>3.173184e+13</td>\n",
       "      <td>5.680573e+06</td>\n",
       "      <td>37.000000</td>\n",
       "      <td>0.000000</td>\n",
       "      <td>0.000000</td>\n",
       "      <td>0.000000</td>\n",
       "      <td>0.000000</td>\n",
       "      <td>0.000000</td>\n",
       "      <td>0.000000</td>\n",
       "    </tr>\n",
       "    <tr>\n",
       "      <th>75%</th>\n",
       "      <td>9.439172e+13</td>\n",
       "      <td>5.725524e+06</td>\n",
       "      <td>55.000000</td>\n",
       "      <td>0.000000</td>\n",
       "      <td>0.000000</td>\n",
       "      <td>0.000000</td>\n",
       "      <td>0.000000</td>\n",
       "      <td>0.000000</td>\n",
       "      <td>1.000000</td>\n",
       "    </tr>\n",
       "    <tr>\n",
       "      <th>max</th>\n",
       "      <td>9.999816e+14</td>\n",
       "      <td>5.790484e+06</td>\n",
       "      <td>115.000000</td>\n",
       "      <td>1.000000</td>\n",
       "      <td>1.000000</td>\n",
       "      <td>1.000000</td>\n",
       "      <td>1.000000</td>\n",
       "      <td>4.000000</td>\n",
       "      <td>1.000000</td>\n",
       "    </tr>\n",
       "  </tbody>\n",
       "</table>\n",
       "</div>"
      ],
      "text/plain": [
       "          PatientId  AppointmentID            Age    Scholarship  \\\n",
       "count  1.105270e+05   1.105270e+05  110527.000000  110527.000000   \n",
       "mean   1.474963e+14   5.675305e+06      37.088874       0.098266   \n",
       "std    2.560949e+14   7.129575e+04      23.110205       0.297675   \n",
       "min    3.921800e+04   5.030230e+06      -1.000000       0.000000   \n",
       "25%    4.172614e+12   5.640286e+06      18.000000       0.000000   \n",
       "50%    3.173184e+13   5.680573e+06      37.000000       0.000000   \n",
       "75%    9.439172e+13   5.725524e+06      55.000000       0.000000   \n",
       "max    9.999816e+14   5.790484e+06     115.000000       1.000000   \n",
       "\n",
       "        Hipertension       Diabetes     Alcoholism        Handcap  \\\n",
       "count  110527.000000  110527.000000  110527.000000  110527.000000   \n",
       "mean        0.197246       0.071865       0.030400       0.022248   \n",
       "std         0.397921       0.258265       0.171686       0.161543   \n",
       "min         0.000000       0.000000       0.000000       0.000000   \n",
       "25%         0.000000       0.000000       0.000000       0.000000   \n",
       "50%         0.000000       0.000000       0.000000       0.000000   \n",
       "75%         0.000000       0.000000       0.000000       0.000000   \n",
       "max         1.000000       1.000000       1.000000       4.000000   \n",
       "\n",
       "        SMS_received  \n",
       "count  110527.000000  \n",
       "mean        0.321026  \n",
       "std         0.466873  \n",
       "min         0.000000  \n",
       "25%         0.000000  \n",
       "50%         0.000000  \n",
       "75%         1.000000  \n",
       "max         1.000000  "
      ]
     },
     "execution_count": 4,
     "metadata": {},
     "output_type": "execute_result"
    }
   ],
   "source": [
    "df_appointments.describe()"
   ]
  },
  {
   "cell_type": "code",
   "execution_count": 5,
   "metadata": {},
   "outputs": [
    {
     "name": "stdout",
     "output_type": "stream",
     "text": [
      "<class 'pandas.core.frame.DataFrame'>\n",
      "RangeIndex: 110527 entries, 0 to 110526\n",
      "Data columns (total 14 columns):\n",
      " #   Column          Non-Null Count   Dtype \n",
      "---  ------          --------------   ----- \n",
      " 0   PatientId       110527 non-null  int64 \n",
      " 1   AppointmentID   110527 non-null  int64 \n",
      " 2   Gender          110527 non-null  object\n",
      " 3   ScheduledDay    110527 non-null  object\n",
      " 4   AppointmentDay  110527 non-null  object\n",
      " 5   Age             110527 non-null  int64 \n",
      " 6   Neighbourhood   110527 non-null  object\n",
      " 7   Scholarship     110527 non-null  int64 \n",
      " 8   Hipertension    110527 non-null  int64 \n",
      " 9   Diabetes        110527 non-null  int64 \n",
      " 10  Alcoholism      110527 non-null  int64 \n",
      " 11  Handcap         110527 non-null  int64 \n",
      " 12  SMS_received    110527 non-null  int64 \n",
      " 13  No-show         110527 non-null  object\n",
      "dtypes: int64(9), object(5)\n",
      "memory usage: 11.8+ MB\n"
     ]
    }
   ],
   "source": [
    "df_appointments.info()"
   ]
  },
  {
   "cell_type": "markdown",
   "metadata": {},
   "source": [
    "### Data Cleaning\n",
    "> The following steps are the data cleaning activities performed in this project. <br>\n",
    ">1. The code above shows confirms the number of rows and columns in the dataset. <br>\n",
    ">2. Also, all the data types for each variable is correct except for the appointment and sceduled date which should be in datettime format.<br>\n",
    ">3. There are also no null or missing records in the data set. <br>\n",
    ">4. Notice that the column names and seperators are not uniform. <br>\n",
    ">5. From the describe code we can see that the minimum age is a negative value which must be incorrect, also we can see that a most of the patients do not have any of the ailments (all of these will be addressed later) <br>\n",
    "> **We will now go ahead and clean up the data based on these findings**"
   ]
  },
  {
   "cell_type": "code",
   "execution_count": 6,
   "metadata": {},
   "outputs": [
    {
     "data": {
      "text/plain": [
       "0"
      ]
     },
     "execution_count": 6,
     "metadata": {},
     "output_type": "execute_result"
    }
   ],
   "source": [
    "# checking for duplicates\n",
    "sum(df_appointments.duplicated())"
   ]
  },
  {
   "cell_type": "code",
   "execution_count": 7,
   "metadata": {},
   "outputs": [],
   "source": [
    "# converting all column names to lower case and using underscore as seperators\n",
    "df_appointments.rename(columns = lambda x: x.strip().lower().replace(\"-\",\"_\"), inplace = True)"
   ]
  },
  {
   "cell_type": "code",
   "execution_count": 8,
   "metadata": {},
   "outputs": [],
   "source": [
    "# converting scheduledday and appointmentday from string to datetime\n",
    "df_appointments['appointmentday'] = pd.to_datetime(df_appointments['appointmentday'])\n",
    "df_appointments['scheduledday'] = pd.to_datetime(df_appointments['scheduledday'])"
   ]
  },
  {
   "cell_type": "code",
   "execution_count": 9,
   "metadata": {},
   "outputs": [],
   "source": [
    "df_appointments.drop(['patientid','appointmentid'], axis = 1, inplace = True)"
   ]
  },
  {
   "cell_type": "code",
   "execution_count": 10,
   "metadata": {},
   "outputs": [
    {
     "data": {
      "text/plain": [
       "array(['No', 'Yes'], dtype=object)"
      ]
     },
     "execution_count": 10,
     "metadata": {},
     "output_type": "execute_result"
    }
   ],
   "source": [
    "df_appointments['no_show'].unique()"
   ]
  },
  {
   "cell_type": "markdown",
   "metadata": {},
   "source": [
    "> The line of code above displays the unique values in the column no_show <br>\n",
    "> The next line of code convert the unique values *'Yes'* and *'No'* displayed above in the no_show column into *'Didnt show'* and *'Showed up'* for more clarity."
   ]
  },
  {
   "cell_type": "code",
   "execution_count": 11,
   "metadata": {},
   "outputs": [],
   "source": [
    "no_show_map = {'Yes' : 'Didnt show', 'No' : 'Showed up'}\n",
    "df_appointments['no_show'] = df_appointments['no_show'].map(no_show_map)\n",
    "df_appointments['no_show'] = df_appointments['no_show']"
   ]
  },
  {
   "cell_type": "code",
   "execution_count": 12,
   "metadata": {},
   "outputs": [
    {
     "data": {
      "text/html": [
       "<div>\n",
       "<style scoped>\n",
       "    .dataframe tbody tr th:only-of-type {\n",
       "        vertical-align: middle;\n",
       "    }\n",
       "\n",
       "    .dataframe tbody tr th {\n",
       "        vertical-align: top;\n",
       "    }\n",
       "\n",
       "    .dataframe thead th {\n",
       "        text-align: right;\n",
       "    }\n",
       "</style>\n",
       "<table border=\"1\" class=\"dataframe\">\n",
       "  <thead>\n",
       "    <tr style=\"text-align: right;\">\n",
       "      <th></th>\n",
       "      <th>gender</th>\n",
       "      <th>scheduledday</th>\n",
       "      <th>appointmentday</th>\n",
       "      <th>age</th>\n",
       "      <th>neighbourhood</th>\n",
       "      <th>scholarship</th>\n",
       "      <th>hipertension</th>\n",
       "      <th>diabetes</th>\n",
       "      <th>alcoholism</th>\n",
       "      <th>handcap</th>\n",
       "      <th>sms_received</th>\n",
       "      <th>no_show</th>\n",
       "    </tr>\n",
       "  </thead>\n",
       "  <tbody>\n",
       "    <tr>\n",
       "      <th>0</th>\n",
       "      <td>F</td>\n",
       "      <td>2016-05-31 10:56:41+00:00</td>\n",
       "      <td>2016-06-03 00:00:00+00:00</td>\n",
       "      <td>44</td>\n",
       "      <td>PRAIA DO SUÁ</td>\n",
       "      <td>0</td>\n",
       "      <td>0</td>\n",
       "      <td>0</td>\n",
       "      <td>0</td>\n",
       "      <td>0</td>\n",
       "      <td>0</td>\n",
       "      <td>Showed up</td>\n",
       "    </tr>\n",
       "    <tr>\n",
       "      <th>1</th>\n",
       "      <td>M</td>\n",
       "      <td>2016-06-01 14:22:58+00:00</td>\n",
       "      <td>2016-06-01 00:00:00+00:00</td>\n",
       "      <td>39</td>\n",
       "      <td>MARIA ORTIZ</td>\n",
       "      <td>0</td>\n",
       "      <td>0</td>\n",
       "      <td>1</td>\n",
       "      <td>0</td>\n",
       "      <td>0</td>\n",
       "      <td>0</td>\n",
       "      <td>Showed up</td>\n",
       "    </tr>\n",
       "    <tr>\n",
       "      <th>2</th>\n",
       "      <td>F</td>\n",
       "      <td>2016-05-18 09:12:29+00:00</td>\n",
       "      <td>2016-05-18 00:00:00+00:00</td>\n",
       "      <td>33</td>\n",
       "      <td>CENTRO</td>\n",
       "      <td>0</td>\n",
       "      <td>0</td>\n",
       "      <td>0</td>\n",
       "      <td>0</td>\n",
       "      <td>0</td>\n",
       "      <td>0</td>\n",
       "      <td>Showed up</td>\n",
       "    </tr>\n",
       "    <tr>\n",
       "      <th>3</th>\n",
       "      <td>M</td>\n",
       "      <td>2016-04-29 07:13:36+00:00</td>\n",
       "      <td>2016-05-02 00:00:00+00:00</td>\n",
       "      <td>12</td>\n",
       "      <td>FORTE SÃO JOÃO</td>\n",
       "      <td>0</td>\n",
       "      <td>0</td>\n",
       "      <td>0</td>\n",
       "      <td>0</td>\n",
       "      <td>0</td>\n",
       "      <td>0</td>\n",
       "      <td>Showed up</td>\n",
       "    </tr>\n",
       "    <tr>\n",
       "      <th>4</th>\n",
       "      <td>F</td>\n",
       "      <td>2016-04-29 07:19:57+00:00</td>\n",
       "      <td>2016-05-06 00:00:00+00:00</td>\n",
       "      <td>14</td>\n",
       "      <td>FORTE SÃO JOÃO</td>\n",
       "      <td>0</td>\n",
       "      <td>0</td>\n",
       "      <td>0</td>\n",
       "      <td>0</td>\n",
       "      <td>0</td>\n",
       "      <td>1</td>\n",
       "      <td>Showed up</td>\n",
       "    </tr>\n",
       "  </tbody>\n",
       "</table>\n",
       "</div>"
      ],
      "text/plain": [
       "  gender              scheduledday            appointmentday  age  \\\n",
       "0      F 2016-05-31 10:56:41+00:00 2016-06-03 00:00:00+00:00   44   \n",
       "1      M 2016-06-01 14:22:58+00:00 2016-06-01 00:00:00+00:00   39   \n",
       "2      F 2016-05-18 09:12:29+00:00 2016-05-18 00:00:00+00:00   33   \n",
       "3      M 2016-04-29 07:13:36+00:00 2016-05-02 00:00:00+00:00   12   \n",
       "4      F 2016-04-29 07:19:57+00:00 2016-05-06 00:00:00+00:00   14   \n",
       "\n",
       "    neighbourhood  scholarship  hipertension  diabetes  alcoholism  handcap  \\\n",
       "0    PRAIA DO SUÁ            0             0         0           0        0   \n",
       "1     MARIA ORTIZ            0             0         1           0        0   \n",
       "2          CENTRO            0             0         0           0        0   \n",
       "3  FORTE SÃO JOÃO            0             0         0           0        0   \n",
       "4  FORTE SÃO JOÃO            0             0         0           0        0   \n",
       "\n",
       "   sms_received    no_show  \n",
       "0             0  Showed up  \n",
       "1             0  Showed up  \n",
       "2             0  Showed up  \n",
       "3             0  Showed up  \n",
       "4             1  Showed up  "
      ]
     },
     "execution_count": 12,
     "metadata": {},
     "output_type": "execute_result"
    }
   ],
   "source": [
    "df_appointments.head()"
   ]
  },
  {
   "cell_type": "markdown",
   "metadata": {},
   "source": [
    "#### Data Cleaning cont'd\n",
    "> The above lines of code is to do the following; <br>\n",
    "    >- check the dataset for duplicates (no duplicates were found) <br>\n",
    "    >- convert all column names to lower case and use underscore (_) as separators and,\n",
    "    >- convert the data types for columns: scheduledday and appointmentday to datetimes.\n",
    "    >- columns patientid and appointmentid have also been dropped as we would not require them for this analysis.\n",
    "    >- values in the column no_show has also been changed for better clarity"
   ]
  },
  {
   "cell_type": "code",
   "execution_count": 13,
   "metadata": {},
   "outputs": [
    {
     "data": {
      "text/plain": [
       "(115, -1)"
      ]
     },
     "execution_count": 13,
     "metadata": {},
     "output_type": "execute_result"
    }
   ],
   "source": [
    "#checking the max and min ages to ensure all values are correct\n",
    "df_appointments['age'].max(), df_appointments['age'].min()"
   ]
  },
  {
   "cell_type": "code",
   "execution_count": 14,
   "metadata": {},
   "outputs": [
    {
     "data": {
      "text/plain": [
       "37.08887421173107"
      ]
     },
     "execution_count": 14,
     "metadata": {},
     "output_type": "execute_result"
    }
   ],
   "source": [
    "#Based on the incorrect age value of -1, we will be changing that value to the mean age.\n",
    "mean_age = df_appointments['age'].mean()\n",
    "mean_age"
   ]
  },
  {
   "cell_type": "code",
   "execution_count": 15,
   "metadata": {},
   "outputs": [
    {
     "name": "stderr",
     "output_type": "stream",
     "text": [
      "C:\\ProgramData\\Anaconda3\\lib\\site-packages\\pandas\\core\\indexing.py:1637: SettingWithCopyWarning: \n",
      "A value is trying to be set on a copy of a slice from a DataFrame\n",
      "\n",
      "See the caveats in the documentation: https://pandas.pydata.org/pandas-docs/stable/user_guide/indexing.html#returning-a-view-versus-a-copy\n",
      "  self._setitem_single_block(indexer, value, name)\n"
     ]
    }
   ],
   "source": [
    "for i in range(df_appointments.shape[0]):\n",
    "    if df_appointments.age.iloc[i] < 0:\n",
    "        df_appointments.age.iloc[i] = 37"
   ]
  },
  {
   "cell_type": "markdown",
   "metadata": {},
   "source": [
    "> The code above is to replace any incorrect age less than 0 with the mean of the age column"
   ]
  },
  {
   "cell_type": "code",
   "execution_count": 16,
   "metadata": {
    "scrolled": false
   },
   "outputs": [
    {
     "data": {
      "text/html": [
       "<div>\n",
       "<style scoped>\n",
       "    .dataframe tbody tr th:only-of-type {\n",
       "        vertical-align: middle;\n",
       "    }\n",
       "\n",
       "    .dataframe tbody tr th {\n",
       "        vertical-align: top;\n",
       "    }\n",
       "\n",
       "    .dataframe thead th {\n",
       "        text-align: right;\n",
       "    }\n",
       "</style>\n",
       "<table border=\"1\" class=\"dataframe\">\n",
       "  <thead>\n",
       "    <tr style=\"text-align: right;\">\n",
       "      <th></th>\n",
       "      <th>gender</th>\n",
       "      <th>scheduledday</th>\n",
       "      <th>appointmentday</th>\n",
       "      <th>age</th>\n",
       "      <th>neighbourhood</th>\n",
       "      <th>scholarship</th>\n",
       "      <th>hipertension</th>\n",
       "      <th>diabetes</th>\n",
       "      <th>alcoholism</th>\n",
       "      <th>handcap</th>\n",
       "      <th>sms_received</th>\n",
       "      <th>no_show</th>\n",
       "    </tr>\n",
       "  </thead>\n",
       "  <tbody>\n",
       "  </tbody>\n",
       "</table>\n",
       "</div>"
      ],
      "text/plain": [
       "Empty DataFrame\n",
       "Columns: [gender, scheduledday, appointmentday, age, neighbourhood, scholarship, hipertension, diabetes, alcoholism, handcap, sms_received, no_show]\n",
       "Index: []"
      ]
     },
     "execution_count": 16,
     "metadata": {},
     "output_type": "execute_result"
    }
   ],
   "source": [
    "#confirming the change have been made\n",
    "df_appointments.query('age < 0')"
   ]
  },
  {
   "cell_type": "code",
   "execution_count": 17,
   "metadata": {},
   "outputs": [],
   "source": [
    "#collapsing the hipertension, diabetes, alcoholism and handcap columns into one column called ailment.\n",
    "df_appointments.loc[(df_appointments['hipertension'] == 1) | (df_appointments['diabetes'] == 1) | \n",
    "       (df_appointments['alcoholism'] == 1) | (df_appointments['handcap'] == 1), 'ailment'] = 'one_or_more' \n",
    "df_appointments.loc[(df_appointments['hipertension'] == 0) & (df_appointments['diabetes'] == 0) & \n",
    "       (df_appointments['alcoholism'] == 0) & (df_appointments['handcap'] == 0), 'ailment'] = 'none'"
   ]
  },
  {
   "cell_type": "markdown",
   "metadata": {},
   "source": [
    "> The code block written above is used to create a new column that groups all the associated ailments or diseases into 2 groups. We have *hipertension, diabetes, alcoholism and handcap* all spread accross multiple rows, to make this analysis clearer I have grouped the aliments into **None** (this represents patients with no ailment) and **one_or_more** (this represents patients with one or more of the above listed ailments). <br>"
   ]
  },
  {
   "cell_type": "markdown",
   "metadata": {},
   "source": [
    "#### Data Cleaning cont'd\n",
    "> The above lines of code is to do the following; <br>\n",
    "    >- check the age column for invalid values using min and max <br>\n",
    "    >- change all invalid values to the mean age.\n",
    "    >- collapse all the columns related to dieases into one column (ailment)"
   ]
  },
  {
   "cell_type": "code",
   "execution_count": 18,
   "metadata": {
    "scrolled": true
   },
   "outputs": [
    {
     "data": {
      "image/png": "[encoded data removed]",
      "text/plain": [
       "<Figure size 720x576 with 9 Axes>"
      ]
     },
     "metadata": {
      "needs_background": "light"
     },
     "output_type": "display_data"
    }
   ],
   "source": [
    "df_appointments.hist(figsize = (10, 8));"
   ]
  },
  {
   "cell_type": "code",
   "execution_count": 19,
   "metadata": {},
   "outputs": [],
   "source": [
    "df_appointments.drop(['hipertension', 'diabetes', 'alcoholism', 'handcap'], axis = 1, inplace = True)"
   ]
  },
  {
   "cell_type": "code",
   "execution_count": 20,
   "metadata": {},
   "outputs": [
    {
     "data": {
      "text/html": [
       "<div>\n",
       "<style scoped>\n",
       "    .dataframe tbody tr th:only-of-type {\n",
       "        vertical-align: middle;\n",
       "    }\n",
       "\n",
       "    .dataframe tbody tr th {\n",
       "        vertical-align: top;\n",
       "    }\n",
       "\n",
       "    .dataframe thead th {\n",
       "        text-align: right;\n",
       "    }\n",
       "</style>\n",
       "<table border=\"1\" class=\"dataframe\">\n",
       "  <thead>\n",
       "    <tr style=\"text-align: right;\">\n",
       "      <th></th>\n",
       "      <th>gender</th>\n",
       "      <th>scheduledday</th>\n",
       "      <th>appointmentday</th>\n",
       "      <th>age</th>\n",
       "      <th>neighbourhood</th>\n",
       "      <th>scholarship</th>\n",
       "      <th>sms_received</th>\n",
       "      <th>no_show</th>\n",
       "      <th>ailment</th>\n",
       "    </tr>\n",
       "  </thead>\n",
       "  <tbody>\n",
       "    <tr>\n",
       "      <th>0</th>\n",
       "      <td>F</td>\n",
       "      <td>2016-05-31 10:56:41+00:00</td>\n",
       "      <td>2016-06-03 00:00:00+00:00</td>\n",
       "      <td>44</td>\n",
       "      <td>PRAIA DO SUÁ</td>\n",
       "      <td>0</td>\n",
       "      <td>0</td>\n",
       "      <td>Showed up</td>\n",
       "      <td>none</td>\n",
       "    </tr>\n",
       "    <tr>\n",
       "      <th>1</th>\n",
       "      <td>M</td>\n",
       "      <td>2016-06-01 14:22:58+00:00</td>\n",
       "      <td>2016-06-01 00:00:00+00:00</td>\n",
       "      <td>39</td>\n",
       "      <td>MARIA ORTIZ</td>\n",
       "      <td>0</td>\n",
       "      <td>0</td>\n",
       "      <td>Showed up</td>\n",
       "      <td>one_or_more</td>\n",
       "    </tr>\n",
       "    <tr>\n",
       "      <th>2</th>\n",
       "      <td>F</td>\n",
       "      <td>2016-05-18 09:12:29+00:00</td>\n",
       "      <td>2016-05-18 00:00:00+00:00</td>\n",
       "      <td>33</td>\n",
       "      <td>CENTRO</td>\n",
       "      <td>0</td>\n",
       "      <td>0</td>\n",
       "      <td>Showed up</td>\n",
       "      <td>none</td>\n",
       "    </tr>\n",
       "    <tr>\n",
       "      <th>3</th>\n",
       "      <td>M</td>\n",
       "      <td>2016-04-29 07:13:36+00:00</td>\n",
       "      <td>2016-05-02 00:00:00+00:00</td>\n",
       "      <td>12</td>\n",
       "      <td>FORTE SÃO JOÃO</td>\n",
       "      <td>0</td>\n",
       "      <td>0</td>\n",
       "      <td>Showed up</td>\n",
       "      <td>none</td>\n",
       "    </tr>\n",
       "    <tr>\n",
       "      <th>4</th>\n",
       "      <td>F</td>\n",
       "      <td>2016-04-29 07:19:57+00:00</td>\n",
       "      <td>2016-05-06 00:00:00+00:00</td>\n",
       "      <td>14</td>\n",
       "      <td>FORTE SÃO JOÃO</td>\n",
       "      <td>0</td>\n",
       "      <td>1</td>\n",
       "      <td>Showed up</td>\n",
       "      <td>none</td>\n",
       "    </tr>\n",
       "  </tbody>\n",
       "</table>\n",
       "</div>"
      ],
      "text/plain": [
       "  gender              scheduledday            appointmentday  age  \\\n",
       "0      F 2016-05-31 10:56:41+00:00 2016-06-03 00:00:00+00:00   44   \n",
       "1      M 2016-06-01 14:22:58+00:00 2016-06-01 00:00:00+00:00   39   \n",
       "2      F 2016-05-18 09:12:29+00:00 2016-05-18 00:00:00+00:00   33   \n",
       "3      M 2016-04-29 07:13:36+00:00 2016-05-02 00:00:00+00:00   12   \n",
       "4      F 2016-04-29 07:19:57+00:00 2016-05-06 00:00:00+00:00   14   \n",
       "\n",
       "    neighbourhood  scholarship  sms_received    no_show      ailment  \n",
       "0    PRAIA DO SUÁ            0             0  Showed up         none  \n",
       "1     MARIA ORTIZ            0             0  Showed up  one_or_more  \n",
       "2          CENTRO            0             0  Showed up         none  \n",
       "3  FORTE SÃO JOÃO            0             0  Showed up         none  \n",
       "4  FORTE SÃO JOÃO            0             1  Showed up         none  "
      ]
     },
     "execution_count": 20,
     "metadata": {},
     "output_type": "execute_result"
    }
   ],
   "source": [
    "df_appointments.head()"
   ]
  },
  {
   "cell_type": "markdown",
   "metadata": {},
   "source": [
    "#### Data Cleaning cont'd\n",
    "> The visual above is to confirm some of our findings from the dataset; <br>\n",
    "    >- From the visual it is clear that majority of the patients age ranges from 0 to about 60+ years <br>\n",
    "    >- A majority of the patients are not enrolled in the Bolsa Familia scholarships <br>\n",
    "    >- Most of the patients do not have the ailments listed <br>\n",
    "    >- Most of the patients did not receive SMS notification of their appointments. <br>\n",
    "    \n",
    "> The hipertension, diabetes, alcoholism and handcap columns have been dropped since we have collapsed them into one column and would not be required any longer.\n",
    "    \n",
    "> These Characteristics will be further anaylsed; For the purpose of this analysis, **no_show** is my dependent variable while *age*, *scholarship*, *sms_received*, *ailment/disease* will be my independent variables."
   ]
  },
  {
   "cell_type": "markdown",
   "metadata": {},
   "source": [
    "<a id='eda'></a>\n",
    "## Exploratory Data Analysis\n",
    "\n",
    "\n",
    "\n",
    "\n",
    "### Is Age a determining factor of a Patient's visit?"
   ]
  },
  {
   "cell_type": "code",
   "execution_count": 21,
   "metadata": {},
   "outputs": [
    {
     "data": {
      "text/html": [
       "<div>\n",
       "<style scoped>\n",
       "    .dataframe tbody tr th:only-of-type {\n",
       "        vertical-align: middle;\n",
       "    }\n",
       "\n",
       "    .dataframe tbody tr th {\n",
       "        vertical-align: top;\n",
       "    }\n",
       "\n",
       "    .dataframe thead th {\n",
       "        text-align: right;\n",
       "    }\n",
       "</style>\n",
       "<table border=\"1\" class=\"dataframe\">\n",
       "  <thead>\n",
       "    <tr style=\"text-align: right;\">\n",
       "      <th></th>\n",
       "      <th>no_show</th>\n",
       "      <th>age</th>\n",
       "    </tr>\n",
       "  </thead>\n",
       "  <tbody>\n",
       "    <tr>\n",
       "      <th>0</th>\n",
       "      <td>Didnt show</td>\n",
       "      <td>34.317667</td>\n",
       "    </tr>\n",
       "    <tr>\n",
       "      <th>1</th>\n",
       "      <td>Showed up</td>\n",
       "      <td>37.790495</td>\n",
       "    </tr>\n",
       "  </tbody>\n",
       "</table>\n",
       "</div>"
      ],
      "text/plain": [
       "      no_show        age\n",
       "0  Didnt show  34.317667\n",
       "1   Showed up  37.790495"
      ]
     },
     "execution_count": 21,
     "metadata": {},
     "output_type": "execute_result"
    }
   ],
   "source": [
    "no_show_mean = df_appointments.groupby('no_show', as_index = False)['age'].mean()\n",
    "no_show_mean"
   ]
  },
  {
   "cell_type": "markdown",
   "metadata": {},
   "source": [
    "> The mean age for patients who didnt show up is less than those that showed up, this is further illustrated in the chart below;"
   ]
  },
  {
   "cell_type": "code",
   "execution_count": 22,
   "metadata": {
    "scrolled": true
   },
   "outputs": [
    {
     "data": {
      "image/png": "[encoded data removed]",
      "text/plain": [
       "<Figure size 432x288 with 1 Axes>"
      ]
     },
     "metadata": {},
     "output_type": "display_data"
    }
   ],
   "source": [
    "sns.set_theme(style=\"whitegrid\")\n",
    "ax = sns.barplot(x = 'no_show', y = 'age', palette = 'hls', alpha = .8, data = no_show_mean, ci = None)\n",
    "ax.set_title(\"Average age of Patients by visit status\")\n",
    "for index, row in no_show_mean.iterrows():\n",
    "    ax.text(row.name, row.age, round(row.age, 2),\n",
    "            color='black', ha='center')"
   ]
  },
  {
   "cell_type": "code",
   "execution_count": 23,
   "metadata": {},
   "outputs": [],
   "source": [
    "didntshow = df_appointments.no_show == 'Didnt show'\n",
    "showedup = df_appointments.no_show == 'Showed up'"
   ]
  },
  {
   "cell_type": "code",
   "execution_count": 24,
   "metadata": {},
   "outputs": [
    {
     "data": {
      "image/png": "[encoded data removed]",
      "text/plain": [
       "<Figure size 432x288 with 1 Axes>"
      ]
     },
     "metadata": {},
     "output_type": "display_data"
    }
   ],
   "source": [
    "df_appointments.age[didntshow].hist(alpha = 0.5, label = 'Didnt Show')\n",
    "df_appointments.age[showedup].hist(alpha = 0.5, label = 'Showed up')\n",
    "plt.legend();"
   ]
  },
  {
   "cell_type": "markdown",
   "metadata": {},
   "source": [
    "#### Observations\n",
    "> From the chart above we can see that the mean age for both customers that showed up for their appointments and those that did not are not too far off from each other. The histogram also shows clearly that the number of Patients that showed up for their appointments are more than those that did not however, the distribution is spread similarly accross the age in both cases which suggests that the Age is not a determining factor of a Patient's visit."
   ]
  },
  {
   "cell_type": "markdown",
   "metadata": {},
   "source": [
    "### Are Patients who received SMS more likely to honor their appointment?"
   ]
  },
  {
   "cell_type": "code",
   "execution_count": 25,
   "metadata": {},
   "outputs": [],
   "source": [
    "df_sms = df_appointments.groupby('sms_received')['no_show'].count()"
   ]
  },
  {
   "cell_type": "code",
   "execution_count": 26,
   "metadata": {},
   "outputs": [],
   "source": [
    "sms_map = {1 : 'yes', 0 : 'no'}\n",
    "df_sms.index = df_sms.index.map(sms_map)"
   ]
  },
  {
   "cell_type": "code",
   "execution_count": 27,
   "metadata": {},
   "outputs": [
    {
     "data": {
      "image/png": "[encoded data removed]",
      "text/plain": [
       "<Figure size 504x288 with 1 Axes>"
      ]
     },
     "metadata": {},
     "output_type": "display_data"
    }
   ],
   "source": [
    "def add_value_label(x_list,y_list):\n",
    "    for i in range(1, len(x_list)+1):\n",
    "        plt.text(i-1,y_list[i-1],y_list[i-1], ha=\"center\")\n",
    "        \n",
    "plt.subplots(figsize=(7, 4))\n",
    "plt.bar(df_sms.index, df_sms, width = 0.4)\n",
    "add_value_label(df_sms.index, df_sms)\n",
    "plt.title('Count of Patients by SMS status', fontsize = 15)\n",
    "plt.xlabel('SMS Received')\n",
    "plt.ylabel('Count of Patients');"
   ]
  },
  {
   "cell_type": "markdown",
   "metadata": {},
   "source": [
    "> The **Count of Patients by SMS status** Chart shows the distribution of patients by SMS notification. We can see here that a larger percentage of the patient population did not receive SMS notification, would this suggest an impact or influence in a patient's visit? More analysis below to determine this."
   ]
  },
  {
   "cell_type": "code",
   "execution_count": 28,
   "metadata": {
    "scrolled": true
   },
   "outputs": [
    {
     "name": "stderr",
     "output_type": "stream",
     "text": [
      "<ipython-input-28-afd4749005b2>:2: SettingWithCopyWarning: \n",
      "A value is trying to be set on a copy of a slice from a DataFrame.\n",
      "Try using .loc[row_indexer,col_indexer] = value instead\n",
      "\n",
      "See the caveats in the documentation: https://pandas.pydata.org/pandas-docs/stable/user_guide/indexing.html#returning-a-view-versus-a-copy\n",
      "  df_sms_noshow['sms'] = df_appointments['sms_received'].map(sms_map)\n"
     ]
    }
   ],
   "source": [
    "df_sms_noshow = df_appointments[['sms_received','no_show']]\n",
    "df_sms_noshow['sms'] = df_appointments['sms_received'].map(sms_map)\n"
   ]
  },
  {
   "cell_type": "markdown",
   "metadata": {},
   "source": [
    "> The code cell above is to create a subset of the data into a new dataframe. Following which we add a new column that represents the sms_received column in integer (0 and 1) to enable the creation of the multiple bar chart below;"
   ]
  },
  {
   "cell_type": "code",
   "execution_count": 29,
   "metadata": {},
   "outputs": [
    {
     "data": {
      "image/png": "[encoded data removed]",
      "text/plain": [
       "<Figure size 432x288 with 1 Axes>"
      ]
     },
     "metadata": {},
     "output_type": "display_data"
    }
   ],
   "source": [
    "pd.pivot_table(df_sms_noshow, index = 'sms', values = 'sms_received', columns = 'no_show',\n",
    "                    aggfunc='count').plot(title = 'Distribution of Patients by SMS and visit status',\n",
    "                                          ylabel = 'Count of Patients', kind = 'bar');"
   ]
  },
  {
   "cell_type": "markdown",
   "metadata": {},
   "source": [
    "#### Observations\n",
    "\n",
    "> The **Distribution of Patients by SMS and Visit status** Chart above shows the distribution of patients that showed up for their appointments and those that did not based on whether or not they received SMS notification. The earlier chart clearly showed that a larger number of the population did not receive SMS, this second chart is created in an attempt to see if we have more patients that did not show up amongst those that did not receive SMS. However, that is not the case and we can suggest from these findings that SMS is not a determining factor of the patients visit for their appointment."
   ]
  },
  {
   "cell_type": "markdown",
   "metadata": {},
   "source": [
    "### Are Patients enrolled in the scholarship more likely to miss or make their appointments?"
   ]
  },
  {
   "cell_type": "code",
   "execution_count": 30,
   "metadata": {},
   "outputs": [
    {
     "data": {
      "text/html": [
       "<div>\n",
       "<style scoped>\n",
       "    .dataframe tbody tr th:only-of-type {\n",
       "        vertical-align: middle;\n",
       "    }\n",
       "\n",
       "    .dataframe tbody tr th {\n",
       "        vertical-align: top;\n",
       "    }\n",
       "\n",
       "    .dataframe thead th {\n",
       "        text-align: right;\n",
       "    }\n",
       "</style>\n",
       "<table border=\"1\" class=\"dataframe\">\n",
       "  <thead>\n",
       "    <tr style=\"text-align: right;\">\n",
       "      <th></th>\n",
       "      <th>scholarship</th>\n",
       "      <th>no_show</th>\n",
       "      <th>percent</th>\n",
       "    </tr>\n",
       "  </thead>\n",
       "  <tbody>\n",
       "    <tr>\n",
       "      <th>0</th>\n",
       "      <td>0</td>\n",
       "      <td>99666</td>\n",
       "      <td>90.173442</td>\n",
       "    </tr>\n",
       "    <tr>\n",
       "      <th>1</th>\n",
       "      <td>1</td>\n",
       "      <td>10861</td>\n",
       "      <td>9.826558</td>\n",
       "    </tr>\n",
       "  </tbody>\n",
       "</table>\n",
       "</div>"
      ],
      "text/plain": [
       "   scholarship  no_show    percent\n",
       "0            0    99666  90.173442\n",
       "1            1    10861   9.826558"
      ]
     },
     "execution_count": 30,
     "metadata": {},
     "output_type": "execute_result"
    }
   ],
   "source": [
    "df_sch = df_appointments.groupby('scholarship', as_index = False)['no_show'].count()\n",
    "df_tot = df_appointments['no_show'].count()\n",
    "df_sch['percent'] = df_sch['no_show'] / df_tot * 100\n",
    "df_sch"
   ]
  },
  {
   "cell_type": "code",
   "execution_count": 31,
   "metadata": {},
   "outputs": [
    {
     "data": {
      "image/png": "[encoded data removed]",
      "text/plain": [
       "<Figure size 432x288 with 1 Axes>"
      ]
     },
     "metadata": {},
     "output_type": "display_data"
    }
   ],
   "source": [
    "data = df_sch['percent']\n",
    "explode = [0.1, 0.1]\n",
    "labels = ['no_scholarship', 'scholarship']\n",
    "colors = sns.color_palette('bright')\n",
    "plt.pie(data, labels=labels,colors = colors, autopct = '%0.0f%%', explode = explode)\n",
    "plt.title('Bolsa Familia Scholarship Enrollment by Patients', fontsize = 15)\n",
    "plt.show()"
   ]
  },
  {
   "cell_type": "markdown",
   "metadata": {},
   "source": [
    "> We have used a pie chart to illustrate the number of patients based on whether or not they are enrolled into the Bolsa Familia scholarship program. It is clear that a large percentage of the patient population are not enrolled into the scholarship program. <br>\n",
    "> We would further look into the 10% of the base that are enrolled into this scholarship program to determine their response to the scheduled appointments."
   ]
  },
  {
   "cell_type": "code",
   "execution_count": 32,
   "metadata": {},
   "outputs": [],
   "source": [
    "df_yes_sch = df_appointments.loc[df_appointments['scholarship'] == 1]"
   ]
  },
  {
   "cell_type": "code",
   "execution_count": 33,
   "metadata": {},
   "outputs": [
    {
     "data": {
      "text/html": [
       "<div>\n",
       "<style scoped>\n",
       "    .dataframe tbody tr th:only-of-type {\n",
       "        vertical-align: middle;\n",
       "    }\n",
       "\n",
       "    .dataframe tbody tr th {\n",
       "        vertical-align: top;\n",
       "    }\n",
       "\n",
       "    .dataframe thead th {\n",
       "        text-align: right;\n",
       "    }\n",
       "</style>\n",
       "<table border=\"1\" class=\"dataframe\">\n",
       "  <thead>\n",
       "    <tr style=\"text-align: right;\">\n",
       "      <th></th>\n",
       "      <th>no_show</th>\n",
       "      <th>scholarship</th>\n",
       "    </tr>\n",
       "  </thead>\n",
       "  <tbody>\n",
       "    <tr>\n",
       "      <th>0</th>\n",
       "      <td>Didnt show</td>\n",
       "      <td>2578</td>\n",
       "    </tr>\n",
       "    <tr>\n",
       "      <th>1</th>\n",
       "      <td>Showed up</td>\n",
       "      <td>8283</td>\n",
       "    </tr>\n",
       "  </tbody>\n",
       "</table>\n",
       "</div>"
      ],
      "text/plain": [
       "      no_show  scholarship\n",
       "0  Didnt show         2578\n",
       "1   Showed up         8283"
      ]
     },
     "execution_count": 33,
     "metadata": {},
     "output_type": "execute_result"
    }
   ],
   "source": [
    "yes_sch = df_yes_sch.groupby(['scholarship','no_show'], as_index = False)['scholarship'].count()\n",
    "yes_sch"
   ]
  },
  {
   "cell_type": "code",
   "execution_count": 34,
   "metadata": {},
   "outputs": [
    {
     "data": {
      "image/png": "[encoded data removed]",
      "text/plain": [
       "<Figure size 252x360 with 1 Axes>"
      ]
     },
     "metadata": {},
     "output_type": "display_data"
    }
   ],
   "source": [
    "ap = sns.catplot(x = 'no_show', y='scholarship', palette = 'dark',\n",
    "                 aspect = .7, alpha = .7, data= yes_sch, kind = 'bar', legend = True)\n",
    "ap.set_axis_labels(\"\", \"count of patients\")\n",
    "ap.set(title = 'Scholarship Recipients - Showed up vs Didnt show');"
   ]
  },
  {
   "cell_type": "markdown",
   "metadata": {},
   "source": [
    "> The chart above illustrates that the number of scholarship-enrolled patients that showed up to their appointment is higher than those that did not show up. This is also the case for patients not enrolled in the scholarship. The available data does not suggest that being enrolled to the Bolsa Familia scholarship influences the patient's visit."
   ]
  },
  {
   "cell_type": "markdown",
   "metadata": {},
   "source": [
    "### Does ailment/disease play a role in influencing a Patient's visit for their appointment?"
   ]
  },
  {
   "cell_type": "markdown",
   "metadata": {},
   "source": [
    "> Finally, we will go ahead and analyse the distribution of patients by ailment and determine if ailment can be an influencing factor."
   ]
  },
  {
   "cell_type": "code",
   "execution_count": 35,
   "metadata": {},
   "outputs": [
    {
     "data": {
      "text/html": [
       "<div>\n",
       "<style scoped>\n",
       "    .dataframe tbody tr th:only-of-type {\n",
       "        vertical-align: middle;\n",
       "    }\n",
       "\n",
       "    .dataframe tbody tr th {\n",
       "        vertical-align: top;\n",
       "    }\n",
       "\n",
       "    .dataframe thead th {\n",
       "        text-align: right;\n",
       "    }\n",
       "</style>\n",
       "<table border=\"1\" class=\"dataframe\">\n",
       "  <thead>\n",
       "    <tr style=\"text-align: right;\">\n",
       "      <th></th>\n",
       "      <th>ailment</th>\n",
       "      <th>no_show</th>\n",
       "      <th>percent</th>\n",
       "    </tr>\n",
       "  </thead>\n",
       "  <tbody>\n",
       "    <tr>\n",
       "      <th>0</th>\n",
       "      <td>none</td>\n",
       "      <td>84115</td>\n",
       "      <td>76.103577</td>\n",
       "    </tr>\n",
       "    <tr>\n",
       "      <th>1</th>\n",
       "      <td>one_or_more</td>\n",
       "      <td>26303</td>\n",
       "      <td>23.797805</td>\n",
       "    </tr>\n",
       "  </tbody>\n",
       "</table>\n",
       "</div>"
      ],
      "text/plain": [
       "       ailment  no_show    percent\n",
       "0         none    84115  76.103577\n",
       "1  one_or_more    26303  23.797805"
      ]
     },
     "execution_count": 35,
     "metadata": {},
     "output_type": "execute_result"
    }
   ],
   "source": [
    "df_ailment = df_appointments.groupby('ailment', as_index = False)['no_show'].count()\n",
    "df_ailment['percent'] = df_ailment['no_show'] / df_tot * 100\n",
    "df_ailment"
   ]
  },
  {
   "cell_type": "code",
   "execution_count": 36,
   "metadata": {},
   "outputs": [
    {
     "data": {
      "image/png": "[encoded data removed]",
      "text/plain": [
       "<Figure size 504x288 with 1 Axes>"
      ]
     },
     "metadata": {},
     "output_type": "display_data"
    }
   ],
   "source": [
    "def add_value_label(x_list,y_list):\n",
    "    for i in range(1, len(x_list)+1):\n",
    "        plt.text(i-1,y_list[i-1],y_list[i-1], ha=\"center\")\n",
    "        \n",
    "plt.subplots(figsize=(7, 4))\n",
    "plt.bar(df_ailment['ailment'], df_ailment['no_show'], width = 0.4)\n",
    "add_value_label(df_ailment['ailment'], df_ailment['no_show'])\n",
    "plt.title('Distribution of Patients by Ailment', fontsize = 15)\n",
    "plt.xlabel('Ailment')\n",
    "plt.ylabel('Count of Patients');"
   ]
  },
  {
   "cell_type": "markdown",
   "metadata": {},
   "source": [
    "> The chart above clearly shows that a larger population (76%) of the patients do not have any of the listed disease. We would further check if ailment is an influencing factor by checking if there is a lower turn out of patients with ailments attending their appointments compared to those with no ailment."
   ]
  },
  {
   "cell_type": "code",
   "execution_count": 37,
   "metadata": {},
   "outputs": [
    {
     "name": "stderr",
     "output_type": "stream",
     "text": [
      "<ipython-input-37-6daf9c007323>:3: SettingWithCopyWarning: \n",
      "A value is trying to be set on a copy of a slice from a DataFrame.\n",
      "Try using .loc[row_indexer,col_indexer] = value instead\n",
      "\n",
      "See the caveats in the documentation: https://pandas.pydata.org/pandas-docs/stable/user_guide/indexing.html#returning-a-view-versus-a-copy\n",
      "  df_ailment_noshow['ailment_ind'] = df_ailment_noshow['ailment'].map(ailment_map)\n"
     ]
    }
   ],
   "source": [
    "df_ailment_noshow = df_appointments[['ailment','no_show']]\n",
    "ailment_map = {'none' : 1, 'one_or_more' : 0}\n",
    "df_ailment_noshow['ailment_ind'] = df_ailment_noshow['ailment'].map(ailment_map)"
   ]
  },
  {
   "cell_type": "code",
   "execution_count": 38,
   "metadata": {},
   "outputs": [
    {
     "data": {
      "image/png": "[encoded data removed]",
      "text/plain": [
       "<Figure size 432x288 with 1 Axes>"
      ]
     },
     "metadata": {},
     "output_type": "display_data"
    }
   ],
   "source": [
    "pd.pivot_table(df_ailment_noshow, index = 'ailment', values = 'ailment_ind', columns = 'no_show',\n",
    "                    aggfunc='count').plot(title = 'Distribution of Patients by Ailment and visit status',\n",
    "                                          ylabel = 'Count of Patients', kind = 'bar');"
   ]
  },
  {
   "cell_type": "markdown",
   "metadata": {},
   "source": [
    "#### Observations\n",
    "> From the chart above showing the distribution of patients by ailment and visit status, we can see that the number of patients that showed up in both cases (patients with no ailment or one/more ailment) is relatively high compared to those that did not show up. Whether or not a patient has an ailment does not influence the patient's visit for their appointment. One would have expected that patients with one/more ailments might struggle with keeping up with their appointment, however reverse is the case as we can see a high count of those that showed for both patients with and without ailment in comparison to those that did not show up for their appointments. We can infere that ailment is not an influencing factor."
   ]
  },
  {
   "cell_type": "markdown",
   "metadata": {},
   "source": [
    "<a id='conclusions'></a>\n",
    "## Conclusions\n",
    "\n",
    "> From the analysis done above with the dataset available, it is not fully clear what factors influence the patient's visit for their appointment however we are able to establish the lack of relationships between some of the variables available and the tendency of a patient's visit. <br>\n",
    "> We can see that there is no relationship between the age of the Patient and their likelihood to visit on their appointment day, this is also the same for those that receive SMS; one would expect that there should be a better turn out for patient's that receive SMS notification but from the analysis above we can see that a patient receiving SMS did not necessarily effect a better turn out. <br>\n",
    "> Also, another independent variable considered in this analysis is the Boslia Familia scholarship. Investigating to determine if patients enrolled to the scholarship would be more likely to make their appointments also showed that it was not an influencing factor. For the 10% of the patient population that enrolled in the scholarship, 76% of these patients showed up for their appointment similar to the 80% of patients that showed up amongst the patients not enrolled into the scholarship. This indicates that a patient having the scholarship does not necessarily mean that they would show up for their appointment. <br>\n",
    "> Lastly, ailment or disease was the final variable considered, this analysis showed that there is no relationship between ailment and the tendency of a patient keeping to their appointment. \n",
    "The characteristics of the patients (those that showed up and those that did not) accross all the variables considered are similar and none of the independent variables considered proved to be factors that can predict or influence a patient's visit. Based on this analysis, the available data does not suggest that any of the variables considered can influence the patient's visit for their appointment. \n",
    "\n",
    "##### Limitations\n",
    "> Although this dataset was mostly clean, some additional information such as occupation of the patients and location or address of the patients would have probably been more variables to help us determine factors that might influence a patient's visit. <br>\n",
    "> A more robust dataset that covers a year or more would be more suitable to use for predicting factors that can influence a patient's visit. \n",
    "> Having more historical data would have helped us look at trends at different times in a year to determine if there are other factors such as weather, holidays etc. that could influence a patient's visit on the appointed date.\n",
    "\n",
    "## References \n",
    ">- https://datatofish.com/if-condition-in-pandas-dataframe/\n",
    ">- https://www.geeksforgeeks.org/how-to-add-a-title-to-seaborn-plots/\n",
    ">- https://www.geeksforgeeks.org/how-to-show-values-on-seaborn-barplot/\n",
    ">- https://seaborn.pydata.org/tutorial/color_palettes.html\n",
    ">- https://www.statology.org/pandas-pivot-table-count/\n",
    ">- https://stackabuse.com/seaborn-bar-plot-tutorial-and-examples/\n",
    ">- https://www.pluralsight.com/guides/cleaning-data-using-python\n",
    ">- https://datatofish.com/strings-to-datetime-pandas/\n",
    ">- https://stackoverflow.com/questions/40901770/is-there-a-simple-way-to-change-a-column-of-yes-no-to-1-0-in-a-pandas-dataframe\n",
    ">- https://www.kaggle.com/datasets/joniarroba/noshowappointments"
   ]
  }
 ],
 "metadata": {
  "kernelspec": {
   "display_name": "Python 3",
   "language": "python",
   "name": "python3"
  },
  "language_info": {
   "codemirror_mode": {
    "name": "ipython",
    "version": 3
   },
   "file_extension": ".py",
   "mimetype": "text/x-python",
   "name": "python",
   "nbconvert_exporter": "python",
   "pygments_lexer": "ipython3",
   "version": "3.8.8"
  }
 },
 "nbformat": 4,
 "nbformat_minor": 2
}
